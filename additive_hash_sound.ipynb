{
 "cells": [
  {
   "cell_type": "code",
   "execution_count": 9,
   "id": "930435d4",
   "metadata": {},
   "outputs": [
    {
     "name": "stdout",
     "output_type": "stream",
     "text": [
      "Window size frames: 882000\n",
      "Hit!\n",
      "Hash Value: -7752538, Start Frame: 17992800, End Frame: 18874800, Window Size: 20.0, Start Second: 408.0, End Second: 428.0\n"
     ]
    }
   ],
   "source": [
    "import wave\n",
    "import numpy as np\n",
    "\n",
    "class WindowInfo:\n",
    "    def __init__(self, start_frame, end_frame, window_size, start_second, end_second):\n",
    "        self.start_frame = start_frame\n",
    "        self.end_frame = end_frame\n",
    "        self.window_size = window_size\n",
    "        self.start_second = start_second\n",
    "        self.end_second = end_second\n",
    "\n",
    "def additive_hash(frame):\n",
    "    hash_value = np.sum(frame)\n",
    "    return hash_value\n",
    "\n",
    "def create_hash_value_for_audio_window(wav_file, start_frame, window_size_frames):\n",
    "    wav_file.setpos(start_frame)\n",
    "    frames = wav_file.readframes(window_size_frames)\n",
    "    frames_array = np.frombuffer(frames, dtype=np.int16)\n",
    "    hash_value = additive_hash(frames_array)\n",
    "    return hash_value\n",
    "\n",
    "def process_wav_file(file_path, window_size, hop_size):\n",
    "    windows_dict = {}\n",
    "    wav_file = wave.open(file_path, 'rb')\n",
    "    channels = wav_file.getnchannels()\n",
    "    frame_rate = wav_file.getframerate()\n",
    "    sample_width = wav_file.getsampwidth()\n",
    "    num_frames = wav_file.getnframes()\n",
    "    \n",
    "    window_size_frames = int(window_size * frame_rate)\n",
    "    print(\"Window size frames: \" + str(window_size_frames))\n",
    "    hop_size_frames = int(hop_size * frame_rate)\n",
    "    \n",
    "    for start_frame in range(0, num_frames-window_size_frames, hop_size_frames):\n",
    "        hash_value = create_hash_value_for_audio_window(wav_file, start_frame, window_size_frames)\n",
    "        window_info = WindowInfo(start_frame, start_frame + window_size_frames, window_size, start_frame / frame_rate, (start_frame + window_size_frames) / frame_rate)\n",
    "        if hash_value in windows_dict:\n",
    "            windows_dict[hash_value].append(window_info)\n",
    "        else:\n",
    "            windows_dict[hash_value] = [window_info]\n",
    "    return windows_dict\n",
    "\n",
    "        # for hash_value, window_info_list in windows_dict.items():\n",
    "        #    for window_info in window_info_list:\n",
    "               # print(f\"Hash Value: {hash_value}, Start Frame: {window_info.start_frame}, End Frame: {window_info.end_frame}, Window Size: {window_info.window_size}\")\n",
    "\n",
    "wav_file_path = './dataset/Videos/Audios/video6.wav'\n",
    "query_file_path = './dataset/Queries/Audios/video6_1.wav'\n",
    "window_size = 20.0  # in seconds\n",
    "hop_size = 0.1  # in seconds\n",
    "\n",
    "window_values=process_wav_file(wav_file_path, window_size, hop_size)\n",
    "query_file = wave.open(query_file_path, 'rb')\n",
    "query_hash_value=create_hash_value_for_audio_window(query_file, 0, query_file.getframerate() * 20)\n",
    "#print(\"Query: \" + str(query_hash_value))\n",
    "if query_hash_value in window_values:\n",
    "    print(\"Hit!\")\n",
    "    window_info_list = window_values[query_hash_value]\n",
    "    for window_info in window_info_list:\n",
    "        print(f\"Hash Value: {query_hash_value}, Start Frame: {window_info.start_frame}, End Frame: {window_info.end_frame}, Window Size: {window_info.window_size}, Start Second: {window_info.start_second}, End Second: {window_info.end_second}\")"
   ]
  },
  {
   "cell_type": "code",
   "execution_count": null,
   "id": "a8b96f8a",
   "metadata": {},
   "outputs": [],
   "source": []
  }
 ],
 "metadata": {
  "kernelspec": {
   "display_name": "Python 3 (ipykernel)",
   "language": "python",
   "name": "python3"
  },
  "language_info": {
   "codemirror_mode": {
    "name": "ipython",
    "version": 3
   },
   "file_extension": ".py",
   "mimetype": "text/x-python",
   "name": "python",
   "nbconvert_exporter": "python",
   "pygments_lexer": "ipython3",
   "version": "3.11.4"
  }
 },
 "nbformat": 4,
 "nbformat_minor": 5
}
